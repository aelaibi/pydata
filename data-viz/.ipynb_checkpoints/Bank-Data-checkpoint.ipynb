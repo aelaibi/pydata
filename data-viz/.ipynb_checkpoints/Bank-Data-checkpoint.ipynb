{
 "cells": [
  {
   "cell_type": "code",
   "execution_count": 221,
   "metadata": {
    "collapsed": true
   },
   "outputs": [],
   "source": [
    "import pandas as pd"
   ]
  },
  {
   "cell_type": "code",
   "execution_count": 222,
   "metadata": {
    "collapsed": true
   },
   "outputs": [],
   "source": [
    "import glob"
   ]
  },
  {
   "cell_type": "code",
   "execution_count": 223,
   "metadata": {
    "collapsed": false
   },
   "outputs": [],
   "source": [
    "path =r'/Users/vpro/Dropbox/data/bank/test/2204324/22043240005/' \n",
    "allFiles = glob.glob(path + \"/*.txt\")\n",
    "frame = pd.DataFrame()\n",
    "list_ = []\n",
    "for file_ in allFiles:\n",
    "    df = pd.read_csv(file_,index_col=None, header=0)\n",
    "    if 'categorie' in df:\n",
    "        del df['categorie']\n",
    "    if 'compte' in df:\n",
    "        del df['compte']\n",
    "    if 'contrat' in df:\n",
    "        del df['contrat']\n",
    "    #list_.append(df)\n",
    "    frame = frame.append(df, ignore_index=True)\n"
   ]
  },
  {
   "cell_type": "code",
   "execution_count": 224,
   "metadata": {
    "collapsed": false
   },
   "outputs": [
    {
     "data": {
      "text/html": [
       "<div>\n",
       "<table border=\"1\" class=\"dataframe\">\n",
       "  <thead>\n",
       "    <tr style=\"text-align: right;\">\n",
       "      <th></th>\n",
       "      <th>ref</th>\n",
       "      <th>dateOperation</th>\n",
       "      <th>dateValeur</th>\n",
       "      <th>libelleOperation</th>\n",
       "      <th>montantDebit</th>\n",
       "      <th>montantCredit</th>\n",
       "      <th>montantSolde</th>\n",
       "    </tr>\n",
       "  </thead>\n",
       "  <tbody>\n",
       "    <tr>\n",
       "      <th>0</th>\n",
       "      <td>250061</td>\n",
       "      <td>Mon Dec 07 00:00:00 WET 2015</td>\n",
       "      <td>Tue Dec 08 00:00:00 WET 2015</td>\n",
       "      <td>VERSEMENT EFFECTUE PAR SAMIR KAILY BB56653</td>\n",
       "      <td>&lt;null&gt;</td>\n",
       "      <td>1200.0</td>\n",
       "      <td>200092.47</td>\n",
       "    </tr>\n",
       "    <tr>\n",
       "      <th>1</th>\n",
       "      <td>071215</td>\n",
       "      <td>Mon Dec 07 00:00:00 WET 2015</td>\n",
       "      <td>Fri Dec 04 00:00:00 WET 2015</td>\n",
       "      <td>ORDRE DE VIREMENT EN FAVEUR DE MR SEMMAMI MOHAMED</td>\n",
       "      <td>2100.0</td>\n",
       "      <td>&lt;null&gt;</td>\n",
       "      <td>200092.47</td>\n",
       "    </tr>\n",
       "    <tr>\n",
       "      <th>2</th>\n",
       "      <td>071215</td>\n",
       "      <td>Mon Dec 07 00:00:00 WET 2015</td>\n",
       "      <td>Fri Dec 04 00:00:00 WET 2015</td>\n",
       "      <td>ORDRE DE VIREMENT EN FAVEUR DE MR OMAR EL AIBI</td>\n",
       "      <td>1000.0</td>\n",
       "      <td>&lt;null&gt;</td>\n",
       "      <td>200092.47</td>\n",
       "    </tr>\n",
       "    <tr>\n",
       "      <th>3</th>\n",
       "      <td>000007</td>\n",
       "      <td>Tue Dec 08 00:00:00 WET 2015</td>\n",
       "      <td>Fri Dec 04 00:00:00 WET 2015</td>\n",
       "      <td>COMMISSION</td>\n",
       "      <td>6.0</td>\n",
       "      <td>&lt;null&gt;</td>\n",
       "      <td>198086.47</td>\n",
       "    </tr>\n",
       "    <tr>\n",
       "      <th>4</th>\n",
       "      <td>000007</td>\n",
       "      <td>Tue Dec 08 00:00:00 WET 2015</td>\n",
       "      <td>Fri Dec 04 00:00:00 WET 2015</td>\n",
       "      <td>RETRAIT GAB EFFECTUE CHEZ BMCE BANK MOHAMMEDIA</td>\n",
       "      <td>2000.0</td>\n",
       "      <td>&lt;null&gt;</td>\n",
       "      <td>198086.47</td>\n",
       "    </tr>\n",
       "  </tbody>\n",
       "</table>\n",
       "</div>"
      ],
      "text/plain": [
       "      ref                 dateOperation                    dateValeur  \\\n",
       "0  250061  Mon Dec 07 00:00:00 WET 2015  Tue Dec 08 00:00:00 WET 2015   \n",
       "1  071215  Mon Dec 07 00:00:00 WET 2015  Fri Dec 04 00:00:00 WET 2015   \n",
       "2  071215  Mon Dec 07 00:00:00 WET 2015  Fri Dec 04 00:00:00 WET 2015   \n",
       "3  000007  Tue Dec 08 00:00:00 WET 2015  Fri Dec 04 00:00:00 WET 2015   \n",
       "4  000007  Tue Dec 08 00:00:00 WET 2015  Fri Dec 04 00:00:00 WET 2015   \n",
       "\n",
       "                                    libelleOperation montantDebit  \\\n",
       "0         VERSEMENT EFFECTUE PAR SAMIR KAILY BB56653       <null>   \n",
       "1  ORDRE DE VIREMENT EN FAVEUR DE MR SEMMAMI MOHAMED       2100.0   \n",
       "2     ORDRE DE VIREMENT EN FAVEUR DE MR OMAR EL AIBI       1000.0   \n",
       "3                                         COMMISSION          6.0   \n",
       "4     RETRAIT GAB EFFECTUE CHEZ BMCE BANK MOHAMMEDIA       2000.0   \n",
       "\n",
       "  montantCredit  montantSolde  \n",
       "0        1200.0     200092.47  \n",
       "1        <null>     200092.47  \n",
       "2        <null>     200092.47  \n",
       "3        <null>     198086.47  \n",
       "4        <null>     198086.47  "
      ]
     },
     "execution_count": 224,
     "metadata": {},
     "output_type": "execute_result"
    }
   ],
   "source": [
    "frame.head()"
   ]
  },
  {
   "cell_type": "markdown",
   "metadata": {},
   "source": [
    "Check Data coherence "
   ]
  },
  {
   "cell_type": "code",
   "execution_count": 225,
   "metadata": {
    "collapsed": false
   },
   "outputs": [
    {
     "data": {
      "text/html": [
       "<div>\n",
       "<table border=\"1\" class=\"dataframe\">\n",
       "  <thead>\n",
       "    <tr style=\"text-align: right;\">\n",
       "      <th></th>\n",
       "      <th>ref</th>\n",
       "      <th>dateOperation</th>\n",
       "      <th>dateValeur</th>\n",
       "      <th>libelleOperation</th>\n",
       "      <th>montantDebit</th>\n",
       "      <th>montantCredit</th>\n",
       "      <th>montantSolde</th>\n",
       "    </tr>\n",
       "  </thead>\n",
       "  <tbody>\n",
       "  </tbody>\n",
       "</table>\n",
       "</div>"
      ],
      "text/plain": [
       "Empty DataFrame\n",
       "Columns: [ref, dateOperation, dateValeur, libelleOperation, montantDebit, montantCredit, montantSolde]\n",
       "Index: []"
      ]
     },
     "execution_count": 225,
     "metadata": {},
     "output_type": "execute_result"
    }
   ],
   "source": [
    "frame.loc[frame['dateOperation'].str.contains('RETRAIT')]"
   ]
  },
  {
   "cell_type": "markdown",
   "metadata": {},
   "source": [
    "convertin date from string"
   ]
  },
  {
   "cell_type": "code",
   "execution_count": 226,
   "metadata": {
    "collapsed": false,
    "scrolled": true
   },
   "outputs": [],
   "source": [
    "dformat = '%a %b %d %H:%M:%S %Z %Y'\n",
    "frame['dateOperation'] = frame['dateOperation'].apply(lambda t:datetime.strptime(t, dformat))\n"
   ]
  },
  {
   "cell_type": "code",
   "execution_count": 227,
   "metadata": {
    "collapsed": true
   },
   "outputs": [],
   "source": [
    "frame['dateValeur'] = frame['dateValeur'].apply(lambda t:datetime.strptime(t, dformat))"
   ]
  },
  {
   "cell_type": "markdown",
   "metadata": {},
   "source": [
    "cleaning DATA"
   ]
  },
  {
   "cell_type": "code",
   "execution_count": 228,
   "metadata": {
    "collapsed": false
   },
   "outputs": [],
   "source": [
    "frame = frame.replace( \"<null>\",  0 )"
   ]
  },
  {
   "cell_type": "code",
   "execution_count": 229,
   "metadata": {
    "collapsed": true
   },
   "outputs": [],
   "source": [
    "frame.montantDebit = frame.montantDebit.apply(lambda x:float(x))"
   ]
  },
  {
   "cell_type": "code",
   "execution_count": 230,
   "metadata": {
    "collapsed": true
   },
   "outputs": [],
   "source": [
    "frame.montantCredit = frame.montantCredit.apply(lambda x:float(x))"
   ]
  },
  {
   "cell_type": "code",
   "execution_count": 231,
   "metadata": {
    "collapsed": false
   },
   "outputs": [],
   "source": [
    "aggdf = frame.groupby(['dateOperation'],as_index = False)[[\"montantDebit\", \"montantCredit\"]].sum()"
   ]
  },
  {
   "cell_type": "code",
   "execution_count": 232,
   "metadata": {
    "collapsed": false
   },
   "outputs": [
    {
     "data": {
      "text/html": [
       "<div>\n",
       "<table border=\"1\" class=\"dataframe\">\n",
       "  <thead>\n",
       "    <tr style=\"text-align: right;\">\n",
       "      <th></th>\n",
       "      <th>dateOperation</th>\n",
       "      <th>montantDebit</th>\n",
       "      <th>montantCredit</th>\n",
       "    </tr>\n",
       "  </thead>\n",
       "  <tbody>\n",
       "    <tr>\n",
       "      <th>0</th>\n",
       "      <td>2015-12-07</td>\n",
       "      <td>3100.00</td>\n",
       "      <td>1200.0</td>\n",
       "    </tr>\n",
       "    <tr>\n",
       "      <th>1</th>\n",
       "      <td>2015-12-08</td>\n",
       "      <td>2006.00</td>\n",
       "      <td>0.0</td>\n",
       "    </tr>\n",
       "    <tr>\n",
       "      <th>2</th>\n",
       "      <td>2015-12-09</td>\n",
       "      <td>915.49</td>\n",
       "      <td>0.0</td>\n",
       "    </tr>\n",
       "    <tr>\n",
       "      <th>3</th>\n",
       "      <td>2015-12-13</td>\n",
       "      <td>2000.00</td>\n",
       "      <td>0.0</td>\n",
       "    </tr>\n",
       "    <tr>\n",
       "      <th>4</th>\n",
       "      <td>2015-12-17</td>\n",
       "      <td>2000.00</td>\n",
       "      <td>0.0</td>\n",
       "    </tr>\n",
       "  </tbody>\n",
       "</table>\n",
       "</div>"
      ],
      "text/plain": [
       "  dateOperation  montantDebit  montantCredit\n",
       "0    2015-12-07       3100.00         1200.0\n",
       "1    2015-12-08       2006.00            0.0\n",
       "2    2015-12-09        915.49            0.0\n",
       "3    2015-12-13       2000.00            0.0\n",
       "4    2015-12-17       2000.00            0.0"
      ]
     },
     "execution_count": 232,
     "metadata": {},
     "output_type": "execute_result"
    }
   ],
   "source": [
    "aggdf.head()"
   ]
  },
  {
   "cell_type": "code",
   "execution_count": 233,
   "metadata": {
    "collapsed": false
   },
   "outputs": [
    {
     "data": {
      "text/plain": [
       "dateOperation    datetime64[ns]\n",
       "montantDebit            float64\n",
       "montantCredit           float64\n",
       "dtype: object"
      ]
     },
     "execution_count": 233,
     "metadata": {},
     "output_type": "execute_result"
    }
   ],
   "source": [
    "aggdf.dtypes"
   ]
  },
  {
   "cell_type": "markdown",
   "metadata": {},
   "source": [
    "some charts & graphics "
   ]
  },
  {
   "cell_type": "code",
   "execution_count": null,
   "metadata": {
    "collapsed": false
   },
   "outputs": [],
   "source": [
    "from bokeh.palettes import Spectral4\n",
    "from bokeh.plotting import figure, output_file, show, output_notebook()\n",
    "output_notebook()\n"
   ]
  },
  {
   "cell_type": "code",
   "execution_count": null,
   "metadata": {
    "collapsed": true
   },
   "outputs": [],
   "source": [
    "p = figure(plot_width=1000, plot_height=250, x_axis_type=\"datetime\")\n",
    "p.title.text = 'Click on legend entries to hide the corresponding lines'\n",
    "\n",
    "for name, color in zip(['montantDebit', 'montantCredit'], Spectral4):\n",
    "    p.line(aggdf['dateOperation'], aggdf[name], line_width=2, color=color, alpha=0.8, legend=name)\n",
    "\n",
    "p.legend.location = \"top_left\"\n",
    "#p.legend.click_policy=\"hide\"\n",
    "\n",
    "show(p)"
   ]
  },
  {
   "cell_type": "code",
   "execution_count": 235,
   "metadata": {
    "collapsed": false
   },
   "outputs": [
    {
     "data": {
      "text/plain": [
       "ref                         object\n",
       "dateOperation               object\n",
       "dateValeur          datetime64[ns]\n",
       "libelleOperation            object\n",
       "montantDebit               float64\n",
       "montantCredit              float64\n",
       "montantSolde               float64\n",
       "dtype: object"
      ]
     },
     "execution_count": 235,
     "metadata": {},
     "output_type": "execute_result"
    }
   ],
   "source": [
    "#convert datetime to str for ploting \n",
    "frame.dateOperation = frame.dateOperation.apply(lambda x: str(x).split(' 00:00:00')[0])\n",
    "frame.dtypes"
   ]
  },
  {
   "cell_type": "code",
   "execution_count": 236,
   "metadata": {
    "collapsed": false
   },
   "outputs": [],
   "source": [
    "from bokeh.charts import Bar, output_file, show\n"
   ]
  },
  {
   "cell_type": "code",
   "execution_count": 237,
   "metadata": {
    "collapsed": false
   },
   "outputs": [],
   "source": [
    "p = Bar(frame, label='dateOperation', values='montantDebit', agg='sum', \n",
    "        title=\"Evolution # Trx\", plot_width=800)\n",
    "show(p)"
   ]
  },
  {
   "cell_type": "code",
   "execution_count": null,
   "metadata": {
    "collapsed": true
   },
   "outputs": [],
   "source": []
  }
 ],
 "metadata": {
  "kernelspec": {
   "display_name": "Python 2",
   "language": "python",
   "name": "python2"
  },
  "language_info": {
   "codemirror_mode": {
    "name": "ipython",
    "version": 2
   },
   "file_extension": ".py",
   "mimetype": "text/x-python",
   "name": "python",
   "nbconvert_exporter": "python",
   "pygments_lexer": "ipython2",
   "version": "2.7.13"
  }
 },
 "nbformat": 4,
 "nbformat_minor": 2
}
